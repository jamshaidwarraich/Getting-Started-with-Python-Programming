{
  "nbformat": 4,
  "nbformat_minor": 0,
  "metadata": {
    "colab": {
      "provenance": []
    },
    "kernelspec": {
      "name": "python3",
      "display_name": "Python 3"
    },
    "language_info": {
      "name": "python"
    }
  },
  "cells": [
    {
      "cell_type": "markdown",
      "source": [
        "## **Introduction to Numpy**\n",
        "### Numpy means Numerical Python\n",
        "Its a general processing array-processing package(used for working with arrays)\n",
        "Numpy is the core library for scientific computing in Python. It provides a high-performance multidimensional array object, and tools for working with these arrays. To use Numpy, we first need to import the `numpy`"
      ],
      "metadata": {
        "id": "eZ1Qve1W-wVL"
      }
    },
    {
      "cell_type": "code",
      "source": [
        "import numpy as np"
      ],
      "metadata": {
        "id": "mIjT-uLlALTU"
      },
      "execution_count": null,
      "outputs": []
    },
    {
      "cell_type": "markdown",
      "source": [
        "##Arrays\n",
        " Numpy array is a grid of values, **all of the same type**.\n",
        " Array is the central data structure of the Numpy Library.\n",
        " Dimension :\n",
        "\n",
        " The number of dimensions is the **rank** of the array; **the shape of an array is a tuple of integers** giving the **size of the array along each dimension**."
      ],
      "metadata": {
        "id": "lgKjh3PkCDvF"
      }
    },
    {
      "cell_type": "markdown",
      "source": [
        "**Numpy array attributes**\n",
        "\n",
        "In Numpy, attributes are properties of arrays that provide information about the array shape,size, datatype, dimension, and so on. There are numerous attributes available, some of these are listed below:\n",
        "\n",
        "|**Attribute**|**Description**|**Syntax**|\n",
        "|:---------|:-----------|:------|\n",
        "|ndim|returns dimension(total number of axes) of the array|arr.ndim|\n",
        "|T|returns transposed array|arr.T|\n",
        "|size|returns number of elements in the array|arr.size|\n",
        "|dtype|returns datatype of elements in the array|arr.dtype|\n",
        "|shape|returns a tuple of sizes of each dimension|arr.shape|"
      ],
      "metadata": {
        "id": "Oj6qPFOTCuSl"
      }
    },
    {
      "cell_type": "code",
      "source": [
        "import numpy as np\n",
        "arr = np.array([[1,2],[3,4],[1,4]])\n",
        "arr1 = np.array([[1,2,3,4],[1,2,3,5]])\n",
        "arr2 = np.array([[[1,2]],[[3,4]]])\n",
        "print(arr1)\n",
        "print(\"arrayshape:\",arr1.shape)\n",
        "print(arr.shape)\n",
        "print(\"size:\",arr.size)\n",
        "print(arr.ndim)\n",
        "print(\"dimension:\",arr2.ndim)\n",
        "print(arr2)"
      ],
      "metadata": {
        "colab": {
          "base_uri": "https://localhost:8080/"
        },
        "id": "2D1Guf0VXF-E",
        "outputId": "e31eef4d-db52-42f1-f81f-3511b5916c24"
      },
      "execution_count": 8,
      "outputs": [
        {
          "output_type": "stream",
          "name": "stdout",
          "text": [
            "[[1 2 3 4]\n",
            " [1 2 3 5]]\n",
            "arrayshape: (2, 4)\n",
            "(3, 2)\n",
            "size: 6\n",
            "2\n",
            "dimension: 3\n",
            "[[[1 2]]\n",
            "\n",
            " [[3 4]]]\n"
          ]
        }
      ]
    },
    {
      "cell_type": "code",
      "source": [
        "arr5 = np.array([[1,2,3],[4,6,3]])\n",
        "print(arr5.ndim)\n",
        "print(arr5.dtype)"
      ],
      "metadata": {
        "colab": {
          "base_uri": "https://localhost:8080/"
        },
        "id": "tYemCF__WSzu",
        "outputId": "ba9ac83c-c44b-4622-9eb7-06e6ee6761c8"
      },
      "execution_count": 7,
      "outputs": [
        {
          "output_type": "stream",
          "name": "stdout",
          "text": [
            "2\n",
            "int64\n"
          ]
        }
      ]
    },
    {
      "cell_type": "code",
      "source": [
        "import numpy as np\n",
        "a = np.array([1, 2, 3,4,9])  # Create a rank 1 array\n",
        "print(\"Type:\",type(a),\n",
        "      \"\\nArray shape:\", a.shape,\n",
        "      \"\\nArray size:\",a.size,\n",
        "      \"\\nDatatype:\",a.dtype ,\n",
        "      \"\\nDimesion:\",a.ndim,\n",
        "      \"\\nThird element:\", a[2])\n",
        "a[0] = 5                 # Change an element of the array\n",
        "print(\"Changed array:\",a)"
      ],
      "metadata": {
        "colab": {
          "base_uri": "https://localhost:8080/",
          "height": 245
        },
        "id": "VH2EVg8HGftc",
        "outputId": "a9970a2f-a03b-46dd-cb0c-c37305129c26"
      },
      "execution_count": 10,
      "outputs": [
        {
          "output_type": "error",
          "ename": "NameError",
          "evalue": "ignored",
          "traceback": [
            "\u001b[0;31m---------------------------------------------------------------------------\u001b[0m",
            "\u001b[0;31mNameError\u001b[0m                                 Traceback (most recent call last)",
            "\u001b[0;32m<ipython-input-10-f5b94b4cd80f>\u001b[0m in \u001b[0;36m<cell line: 2>\u001b[0;34m()\u001b[0m\n\u001b[1;32m      1\u001b[0m \u001b[0;32mimport\u001b[0m \u001b[0mnumpy\u001b[0m \u001b[0;32mas\u001b[0m \u001b[0mnp\u001b[0m\u001b[0;34m\u001b[0m\u001b[0;34m\u001b[0m\u001b[0m\n\u001b[0;32m----> 2\u001b[0;31m \u001b[0ma\u001b[0m \u001b[0;34m=\u001b[0m \u001b[0mnp\u001b[0m\u001b[0;34m.\u001b[0m\u001b[0marray\u001b[0m\u001b[0;34m(\u001b[0m\u001b[0;34m[\u001b[0m\u001b[0;36m1\u001b[0m\u001b[0;34m,\u001b[0m \u001b[0;36m2\u001b[0m\u001b[0;34m,\u001b[0m \u001b[0;36m3\u001b[0m\u001b[0;34m,\u001b[0m\u001b[0;36m4\u001b[0m\u001b[0;34m,\u001b[0m\u001b[0;36m96\u001b[0m\u001b[0;34m]\u001b[0m\u001b[0;34m,\u001b[0m\u001b[0mdtype\u001b[0m \u001b[0;34m=\u001b[0m \u001b[0mint32\u001b[0m\u001b[0;34m)\u001b[0m  \u001b[0;31m# Create a rank 1 array\u001b[0m\u001b[0;34m\u001b[0m\u001b[0;34m\u001b[0m\u001b[0m\n\u001b[0m\u001b[1;32m      3\u001b[0m print(\"Type:\",type(a),\n\u001b[1;32m      4\u001b[0m       \u001b[0;34m\"\\nArray shape:\"\u001b[0m\u001b[0;34m,\u001b[0m \u001b[0ma\u001b[0m\u001b[0;34m.\u001b[0m\u001b[0mshape\u001b[0m\u001b[0;34m,\u001b[0m\u001b[0;34m\u001b[0m\u001b[0;34m\u001b[0m\u001b[0m\n\u001b[1;32m      5\u001b[0m       \u001b[0;34m\"\\nArray size:\"\u001b[0m\u001b[0;34m,\u001b[0m\u001b[0ma\u001b[0m\u001b[0;34m.\u001b[0m\u001b[0msize\u001b[0m\u001b[0;34m,\u001b[0m\u001b[0;34m\u001b[0m\u001b[0;34m\u001b[0m\u001b[0m\n",
            "\u001b[0;31mNameError\u001b[0m: name 'int32' is not defined"
          ]
        }
      ]
    },
    {
      "cell_type": "markdown",
      "source": [
        "## Shape of Array\n",
        "No. of elements in each dimension"
      ],
      "metadata": {
        "id": "csaJT0MtJ6C-"
      }
    },
    {
      "cell_type": "code",
      "source": [
        "a1 = np.array([[1, 2],[3,2]])\n",
        "print(\"Array shape:\",a1.shape)"
      ],
      "metadata": {
        "colab": {
          "base_uri": "https://localhost:8080/"
        },
        "id": "YzhanKwIILlb",
        "outputId": "ebc84047-2c63-4d72-8f1b-afe0636826dd"
      },
      "execution_count": null,
      "outputs": [
        {
          "output_type": "stream",
          "name": "stdout",
          "text": [
            "Array shape: (2, 2)\n"
          ]
        }
      ]
    },
    {
      "cell_type": "code",
      "source": [
        "a1 = np.array([[1, 2, 4],[3, 2, 5]])\n",
        "print(\"Array shape:\",a1.shape)"
      ],
      "metadata": {
        "colab": {
          "base_uri": "https://localhost:8080/"
        },
        "id": "iDx6d7a9Js9v",
        "outputId": "fda72871-4d48-4c0f-80f6-c88196b3f2ad"
      },
      "execution_count": null,
      "outputs": [
        {
          "output_type": "stream",
          "name": "stdout",
          "text": [
            "Array shape: (2, 3)\n"
          ]
        }
      ]
    },
    {
      "cell_type": "markdown",
      "source": [
        "## Reshape of an Array\n",
        "Reshaping means changing the shape of an array.(Gives a new shape to an array without changing its data)\n",
        "\n",
        "The shape of an array is the number of elements in each dimension.\n",
        "\n",
        "By reshaping we can add or remove dimensions or change number of elements in each dimension"
      ],
      "metadata": {
        "id": "cWvr968-ZPO_"
      }
    },
    {
      "cell_type": "code",
      "source": [
        "import numpy as np\n",
        "a3 = np.array([1,2,3,4,5,6,7,8])\n",
        "print(a3.ndim)\n",
        "# reshape 1D to 2D array\n",
        "# data_type array_name[x][y];\n",
        "# x number of Rows , y number of Columns\n",
        "x = a3.reshape(4,2)\n",
        "print(x)\n",
        "print(x.ndim)"
      ],
      "metadata": {
        "colab": {
          "base_uri": "https://localhost:8080/"
        },
        "id": "l2_UFgvhZwnC",
        "outputId": "17052fcb-c638-40b0-e888-ce38609afbaa"
      },
      "execution_count": null,
      "outputs": [
        {
          "output_type": "stream",
          "name": "stdout",
          "text": [
            "1\n",
            "[[1 2]\n",
            " [3 4]\n",
            " [5 6]\n",
            " [7 8]]\n",
            "2\n"
          ]
        }
      ]
    },
    {
      "cell_type": "markdown",
      "source": [
        "### Reshape from 1D to 3D array\n",
        "We can reshape an 8 elements 1D array into 4 elements in 2 rows 2D array but we cannot reshape it into a 3 elements 3 rows 2D array as that would require 3x3 = 9 elements.\n",
        "\n",
        "**3D array :**\n",
        "A Three Dimensional Array or 3D array in C is a collection of two-dimensional arrays\n",
        "\n",
        "**data_type array_name[x][y][z];**\n",
        "\n",
        "data_type: Type of data to be stored in each element.\n",
        "\n",
        "array_name: name of the array\n",
        "\n",
        "x: Number of 2D arrays.\n",
        "\n",
        "y: Number of rows in each 2D array.\n",
        "\n",
        "z: Number of columns in each 2D array.\n",
        "\n"
      ],
      "metadata": {
        "id": "H3vSzyI3f3PE"
      }
    },
    {
      "cell_type": "code",
      "source": [
        "\n",
        "a33 =  np.array([1,2,3,4,5,6,7,8,9,10,11,12])\n",
        "print(a33.ndim)\n",
        "print(a33)\n",
        "arr = a33.reshape(3,2,2)\n",
        "print(arr)\n",
        "print(arr.ndim)\n",
        "# 1D array into 3D array"
      ],
      "metadata": {
        "colab": {
          "base_uri": "https://localhost:8080/"
        },
        "id": "HphJY2cLfSU7",
        "outputId": "65ba1ed2-f357-49ff-a3d7-fb5f64786868"
      },
      "execution_count": null,
      "outputs": [
        {
          "output_type": "stream",
          "name": "stdout",
          "text": [
            "1\n",
            "[ 1  2  3  4  5  6  7  8  9 10 11 12]\n",
            "[[[ 1  2]\n",
            "  [ 3  4]]\n",
            "\n",
            " [[ 5  6]\n",
            "  [ 7  8]]\n",
            "\n",
            " [[ 9 10]\n",
            "  [11 12]]]\n",
            "3\n"
          ]
        }
      ]
    },
    {
      "cell_type": "code",
      "source": [
        "# Reshaping of array\n",
        "a4 = np.array([1,2,3,4,5,6])\n",
        "print(a4.ndim)\n",
        "x1 = a4.reshape(3,2)\n",
        "#x1 = a4.reshape(2,3)\n",
        "#x1 = a4.reshape(3,3)\n",
        "print(x1)\n",
        "print(x1.ndim)"
      ],
      "metadata": {
        "colab": {
          "base_uri": "https://localhost:8080/"
        },
        "id": "EH4KIvkJcnZ-",
        "outputId": "3c718f67-ec7c-4bbc-edee-b2f15bc8fc58"
      },
      "execution_count": null,
      "outputs": [
        {
          "output_type": "stream",
          "name": "stdout",
          "text": [
            "1\n",
            "[[1 2]\n",
            " [3 4]\n",
            " [5 6]]\n",
            "2\n"
          ]
        }
      ]
    },
    {
      "cell_type": "code",
      "source": [
        "x = np.array([[2,3,2],[3,6,7]])\n",
        "\n",
        "print(x.ndim)\n",
        "print(x)\n",
        "x1 = x.reshape(6,)\n",
        "print(x1)\n",
        "print(x1.ndim)"
      ],
      "metadata": {
        "colab": {
          "base_uri": "https://localhost:8080/"
        },
        "id": "6GEuzd2M0p1N",
        "outputId": "b2871fd0-5431-4a85-e468-152778e372cc"
      },
      "execution_count": null,
      "outputs": [
        {
          "output_type": "stream",
          "name": "stdout",
          "text": [
            "2\n",
            "[[2 3 2]\n",
            " [3 6 7]]\n",
            "[2 3 2 3 6 7]\n",
            "1\n"
          ]
        }
      ]
    },
    {
      "cell_type": "code",
      "source": [
        "b = np.array([[1,2,3],[4,5,6]])   # Create a rank 2 array\n",
        "print(\"our array:\",b)\n",
        "print(\"transposed array:\",b.T)\n",
        "print(\"shape of array:\",b.shape)\n",
        "print(\"size of array in axis 0:\",b.shape[0],\"\\nsize of array in axis 1:\",b.shape[1])\n",
        "print(b[0][0], b[0, 1], b[1, 0])"
      ],
      "metadata": {
        "colab": {
          "base_uri": "https://localhost:8080/"
        },
        "id": "gcBu5zLRdEtc",
        "outputId": "841b95f6-cb17-4bdd-c74e-5419a5a38252"
      },
      "execution_count": null,
      "outputs": [
        {
          "output_type": "stream",
          "name": "stdout",
          "text": [
            "our array: [[1 2 3]\n",
            " [4 5 6]]\n",
            "transposed array: [[1 4]\n",
            " [2 5]\n",
            " [3 6]]\n",
            "shape of array: (2, 3)\n",
            "size of array in axis 0: 2 \n",
            "size of array in axis 1: 3\n",
            "1 2 4\n"
          ]
        }
      ]
    },
    {
      "cell_type": "markdown",
      "source": [
        "### Array creation(initialization)\n",
        "We can initialize numpy arrays as follows:\n",
        "+ using List(or tuple)\n",
        "+ using numpy functions\n",
        "  + np.arange\n",
        "  + np.linspace\n",
        "  + np.zeros\n",
        "  + np.ones\n",
        "  + np.full\n",
        "  + np.eye\n",
        "  + np.random.random\n",
        "  + np.empty(np.empty_like)\n",
        "  \n",
        "+ using input function\n"
      ],
      "metadata": {
        "id": "ckV0wN5UglMG"
      }
    },
    {
      "cell_type": "code",
      "source": [
        "#array creation using list(tuple)\n",
        "\n",
        "list_arr=[1,2,3]\n",
        "#tuple_arr=(5,6,7)\n",
        "a = np.array(list_arr,dtype=float)  # Create a rank 1 array\n",
        "print(\"a array:\",a,\"shape of array:\",a.shape)\n",
        "b= np.array([[1,2,3],[4,5,6]],dtype=float)  # Create a rank 2 array\n",
        "print(\"b array:\",b,\"shape of array:\",b.shape)\n",
        "c= np.array([[[1,2,3],[4,5,6]],[[2,3,4],[1,1,1]]],dtype=float)  # Create a rank 3 array\n",
        "print(\"c array:\",c,\"shape of array:\",c.shape)\n",
        "\n",
        "d= np.array([[[[1,2],[4,5]]]],dtype=float)  # Create a rank 4 array\n",
        "print(\"d array:\",d,\"shape of array:\",d.shape)"
      ],
      "metadata": {
        "colab": {
          "base_uri": "https://localhost:8080/"
        },
        "id": "lCNyvGxugnir",
        "outputId": "4cc711b5-da42-4f47-94b0-644c983c3f3b"
      },
      "execution_count": null,
      "outputs": [
        {
          "output_type": "stream",
          "name": "stdout",
          "text": [
            "a array: [1. 2. 3.] shape of array: (3,)\n",
            "b array: [[1. 2. 3.]\n",
            " [4. 5. 6.]] shape of array: (2, 3)\n",
            "c array: [[[1. 2. 3.]\n",
            "  [4. 5. 6.]]\n",
            "\n",
            " [[2. 3. 4.]\n",
            "  [1. 1. 1.]]] shape of array: (2, 2, 3)\n",
            "d array: [[[[1. 2.]\n",
            "   [4. 5.]]]] shape of array: (1, 1, 2, 2)\n"
          ]
        }
      ]
    },
    {
      "cell_type": "markdown",
      "source": [
        "## Array creation using Numpy functions\n",
        "The **numpy. linspace()** function is used to create an array of evenly spaced numbers within a specified range.\n",
        "The **numpy.linspace()** function uses the following basic syntax:\n",
        "\n",
        "numpy.linspace(start, stop, num, …)\n",
        "\n",
        "where:\n",
        "\n",
        "**start**: The starting value of the sequence\n",
        "**stop**: The end value of the sequence\n",
        "**num**: the number of values to generate"
      ],
      "metadata": {
        "id": "M9fQDSy2ji3Y"
      }
    },
    {
      "cell_type": "code",
      "source": [
        "#using linspace function\n",
        "#linspace(start, stop, no of sample points)\n",
        "\n",
        "b=np.linspace(0,10,6)\n",
        "print(b)\n"
      ],
      "metadata": {
        "colab": {
          "base_uri": "https://localhost:8080/"
        },
        "id": "2oKBYcEHjdpu",
        "outputId": "83754a0e-742f-4bd0-9f8f-b5cb7a70e31f"
      },
      "execution_count": null,
      "outputs": [
        {
          "output_type": "stream",
          "name": "stdout",
          "text": [
            "[ 0.  2.  4.  6.  8. 10.]\n"
          ]
        }
      ]
    },
    {
      "cell_type": "markdown",
      "source": [
        "np.linspace allows you to define how many values you get including the specified min and max value. It infers the stepsize:\n"
      ],
      "metadata": {
        "id": "JwnUwiFQkgPl"
      }
    },
    {
      "cell_type": "code",
      "source": [
        "#create sequence of 11 evenly spaced values between 0 and 20\n",
        "np.linspace(0,20,11)\n"
      ],
      "metadata": {
        "colab": {
          "base_uri": "https://localhost:8080/"
        },
        "id": "LSYhaBR9knI9",
        "outputId": "1e4e831e-0394-4e6f-ad7c-007167d9a131"
      },
      "execution_count": null,
      "outputs": [
        {
          "output_type": "execute_result",
          "data": {
            "text/plain": [
              "array([ 0.,  2.,  4.,  6.,  8., 10., 12., 14., 16., 18., 20.])"
            ]
          },
          "metadata": {},
          "execution_count": 90
        }
      ]
    },
    {
      "cell_type": "markdown",
      "source": [
        "The **np.arange()** function uses the following basic syntax:\n",
        "\n",
        "np.arange(start, stop, step, …)\n",
        "\n",
        "where:\n",
        "\n",
        "**start**: The starting value of the sequence\n",
        "**stop**: The end value of the sequence\n",
        "**step**: The spacing between values"
      ],
      "metadata": {
        "id": "ur6IO-vhtRTQ"
      }
    },
    {
      "cell_type": "markdown",
      "source": [
        "**np.arange** excludes the maximum value unless rounding error makes it do otherwise"
      ],
      "metadata": {
        "id": "lTiK4Rl-liWI"
      }
    },
    {
      "cell_type": "code",
      "source": [
        "#create sequence of values between 0 and 20 where spacing is 2\n",
        "np.arange(0, 20, 2)"
      ],
      "metadata": {
        "colab": {
          "base_uri": "https://localhost:8080/"
        },
        "id": "GlR4LEWquNOB",
        "outputId": "e9f100ec-7ad9-4955-8f17-2ee37a3f266b"
      },
      "execution_count": null,
      "outputs": [
        {
          "output_type": "execute_result",
          "data": {
            "text/plain": [
              "array([ 0,  2,  4,  6,  8, 10, 12, 14, 16, 18])"
            ]
          },
          "metadata": {},
          "execution_count": 38
        }
      ]
    },
    {
      "cell_type": "code",
      "source": [
        "#using arrange function\n",
        "#arrange(start, stop, step size)\n",
        "\n",
        "np.arange(0,10,3)"
      ],
      "metadata": {
        "colab": {
          "base_uri": "https://localhost:8080/"
        },
        "id": "I5-Egwdj5uRM",
        "outputId": "56990dec-7e76-4c2d-ea6f-65745037a706"
      },
      "execution_count": null,
      "outputs": [
        {
          "output_type": "execute_result",
          "data": {
            "text/plain": [
              "array([0, 3, 6, 9])"
            ]
          },
          "metadata": {},
          "execution_count": 62
        }
      ]
    },
    {
      "cell_type": "code",
      "source": [
        "# Create an array of all zeros\n",
        "a = np.zeros((2,2))\n",
        "b = np.zeros((3,2),dtype='uint8')  # Create an array of all zeros having data type uint8(unsigned int)\n",
        "c = np.zeros((2,2),dtype='float')  # Create an array of all zeros\n",
        "print(a,'\\n',b,'\\n',c)"
      ],
      "metadata": {
        "colab": {
          "base_uri": "https://localhost:8080/"
        },
        "id": "-UfVOElQuNY5",
        "outputId": "35752f59-2f95-46cd-f73a-88d5a3cb6af0"
      },
      "execution_count": null,
      "outputs": [
        {
          "output_type": "stream",
          "name": "stdout",
          "text": [
            "[[0. 0.]\n",
            " [0. 0.]] \n",
            " [[0 0]\n",
            " [0 0]\n",
            " [0 0]] \n",
            " [[0. 0.]\n",
            " [0. 0.]]\n"
          ]
        }
      ]
    },
    {
      "cell_type": "code",
      "source": [
        "# Create an array of all ones\n",
        "b = np.ones((1,2))\n",
        "c=np.pi*np.ones((1,2))   # Create an array of all pi\n",
        "print(b)\n",
        "print(c)"
      ],
      "metadata": {
        "colab": {
          "base_uri": "https://localhost:8080/"
        },
        "id": "3aRxQbGqu2Ss",
        "outputId": "7f116a4e-82b2-4c21-bb63-2bee3d395fea"
      },
      "execution_count": null,
      "outputs": [
        {
          "output_type": "stream",
          "name": "stdout",
          "text": [
            "[[1. 1.]]\n",
            "[[23. 23.]]\n"
          ]
        }
      ]
    },
    {
      "cell_type": "code",
      "source": [
        "# Create a constant array using full\n",
        "#full(shape, fill_value, dtype=)\n",
        "c = np.full((3,2), 90,dtype=float)\n",
        "#c = np.full((2,2),50,dtype=int)\n",
        "print(c)"
      ],
      "metadata": {
        "colab": {
          "base_uri": "https://localhost:8080/"
        },
        "id": "nPqWFGAIvoMJ",
        "outputId": "b855e640-7eb4-4140-85ae-ab1a7b1c32d3"
      },
      "execution_count": null,
      "outputs": [
        {
          "output_type": "stream",
          "name": "stdout",
          "text": [
            "[[90. 90.]\n",
            " [90. 90.]\n",
            " [90. 90.]]\n"
          ]
        }
      ]
    },
    {
      "cell_type": "markdown",
      "source": [
        "## numpy.eye\n",
        "**numpy.eye(N, M=None, k=0, dtype=<class 'float')**\n",
        "\n",
        "Return a 2-D array with ones on the diagonal and zeros elsewhere\n",
        "\n",
        "N: int\n",
        "Number of rows in the output.\n",
        "\n",
        "M: int, optional\n",
        "Number of columns in the output. If None, defaults to N.\n",
        "\n",
        "k: int, optional\n",
        "Index of the diagonal: 0 (the default) refers to the main diagonal, a positive value refers to an upper diagonal, and a negative value to a lower diagonal.\n",
        "\n",
        "dtype:data-type, optional\n",
        "Data-type of the returned array.\n"
      ],
      "metadata": {
        "id": "lODDm-Zewpwy"
      }
    },
    {
      "cell_type": "code",
      "source": [
        "# Create a 2x2 identity matrix\n",
        "#eye(rows, columns, k=0, dtype)\n",
        "# main diagonal\n",
        "a=np.eye(2,2,0)\n",
        "print(\"Diagonal matrix:\\n\",a)\n",
        "# upper diagonal\n",
        "a1=np.eye(2,2,1)\n",
        "print(\"Upper diagonal matrix:\\n\",a1)\n",
        "# lower diagonal\n",
        "a2=np.eye(2,2,-1)\n",
        "print(\"Lower Diagonal matrix:\\n\",a2)\n",
        "\n",
        "d=2*np.eye(4,4,-1)+3*np.eye(4,4,1)\n",
        "print(\"4x4 matrix with diagonal entries zeros:\\n\",d)"
      ],
      "metadata": {
        "colab": {
          "base_uri": "https://localhost:8080/"
        },
        "id": "XWhJxa8kzuh_",
        "outputId": "f2d6a4d0-e6f9-4f48-c4ee-3bab9bff513e"
      },
      "execution_count": null,
      "outputs": [
        {
          "output_type": "stream",
          "name": "stdout",
          "text": [
            "Diagonal matrix:\n",
            " [[1. 0.]\n",
            " [0. 1.]]\n",
            "Upper diagonal matrix:\n",
            " [[0. 1.]\n",
            " [0. 0.]]\n",
            "Lower Diagonal matrix:\n",
            " [[0. 0.]\n",
            " [1. 0.]]\n",
            "4x4 matrix with diagonal entries zeros:\n",
            " [[0. 0. 0. 0.]\n",
            " [0. 0. 0. 0.]\n",
            " [0. 0. 0. 0.]\n",
            " [0. 0. 0. 0.]]\n"
          ]
        }
      ]
    },
    {
      "cell_type": "code",
      "source": [
        "d=2*np.eye(4,4,-1)+3*np.eye(4,4,1)+4*np.eye(4,4,0)\n",
        "print(\"4x4 matrix with diagonal entries zeros:\\n\",d)"
      ],
      "metadata": {
        "colab": {
          "base_uri": "https://localhost:8080/"
        },
        "id": "-ewNYB_ei4ck",
        "outputId": "d5e58cca-154f-40d7-ea60-9151a8f18606"
      },
      "execution_count": null,
      "outputs": [
        {
          "output_type": "stream",
          "name": "stdout",
          "text": [
            "4x4 matrix with diagonal entries zeros:\n",
            " [[4. 3. 0. 0.]\n",
            " [2. 4. 3. 0.]\n",
            " [0. 2. 4. 3.]\n",
            " [0. 0. 2. 4.]]\n"
          ]
        }
      ]
    },
    {
      "cell_type": "markdown",
      "source": [
        "**Array of Random values**\n",
        "\n",
        "An array with random values\n",
        "Return random floats in the half-open interval [0.0, 1.0)."
      ],
      "metadata": {
        "id": "p1uI9jG4z5Mo"
      }
    },
    {
      "cell_type": "code",
      "source": [
        "# Create an array filled with random values\n",
        "e = np.random.random((2,3))\n",
        "print(e)"
      ],
      "metadata": {
        "colab": {
          "base_uri": "https://localhost:8080/"
        },
        "id": "Zryptx-hz31d",
        "outputId": "639a2d6a-e25d-43eb-f0a7-b29518897c5b"
      },
      "execution_count": null,
      "outputs": [
        {
          "output_type": "stream",
          "name": "stdout",
          "text": [
            "[[0.98810101 0.80151993 0.50472034]\n",
            " [0.13131218 0.58596835 0.68871771]]\n"
          ]
        }
      ]
    },
    {
      "cell_type": "markdown",
      "source": [
        "##Split()\n",
        "Splitting is reverse operation of Joining.\n",
        "Joining merges multiple arrays into one and Splitting breaks one array into multiple"
      ],
      "metadata": {
        "id": "gOhOHDKE0uxw"
      }
    },
    {
      "cell_type": "code",
      "source": [
        "arr = np.array([1, 2, 3, 4, 5, 6])\n",
        "newarr = np.array_split(arr,2)\n",
        "print(newarr)"
      ],
      "metadata": {
        "colab": {
          "base_uri": "https://localhost:8080/"
        },
        "id": "dayESz670UPk",
        "outputId": "b8dee3dc-6de6-40f8-fa74-faeebf212778"
      },
      "execution_count": null,
      "outputs": [
        {
          "output_type": "stream",
          "name": "stdout",
          "text": [
            "[array([1, 2, 3]), array([4, 5, 6])]\n"
          ]
        }
      ]
    },
    {
      "cell_type": "markdown",
      "source": [
        "The **map() function** in NumPy takes the two parameters function-name and iterable.\n",
        "The function name is the name of the particular function that must be applied on each value in the given list of values or the iterable.\n",
        "Iterable is the list of values on which the particular function by name function must be applied.\n",
        "The map() function in numpy returns a list of values on which the specified function is applied."
      ],
      "metadata": {
        "id": "pptTsa4l3md-"
      }
    },
    {
      "cell_type": "code",
      "source": [
        "#please add map function in lecture 1. its very important function\n",
        "def my_func(x,y):\n",
        "    return x+y\n",
        "z=map(my_func,(2,3),(3,4))\n",
        "print(list(z)) #?"
      ],
      "metadata": {
        "colab": {
          "base_uri": "https://localhost:8080/"
        },
        "id": "fJ8AB2ak3IVJ",
        "outputId": "a32d5200-9eca-4e8b-bfb8-a41ebf2cd656"
      },
      "execution_count": null,
      "outputs": [
        {
          "output_type": "stream",
          "name": "stdout",
          "text": [
            "[5, 7]\n"
          ]
        }
      ]
    },
    {
      "cell_type": "markdown",
      "source": [
        "## Functions in Numpy\n",
        "Some of the functions are as follows\n",
        "reshape()\n",
        "flatten()\n",
        "reval()\n",
        "trace()\n",
        "transpose()"
      ],
      "metadata": {
        "id": "WQN8IQW74K5a"
      }
    },
    {
      "cell_type": "code",
      "source": [
        "# how to use reshape function\n",
        "a=np.arange(0,10,1)\n",
        "print(a)\n",
        "b=a.reshape(2,5)\n",
        "print(b)\n",
        "# in one line\n",
        "a=np.arange(10).reshape(2,5)\n",
        "print(a)"
      ],
      "metadata": {
        "colab": {
          "base_uri": "https://localhost:8080/"
        },
        "id": "jGnK_Lsk85q1",
        "outputId": "e18706d0-b996-4b7e-d942-6a4b75c0398c"
      },
      "execution_count": null,
      "outputs": [
        {
          "output_type": "stream",
          "name": "stdout",
          "text": [
            "[0 1 2 3 4 5 6 7 8 9]\n",
            "[[0 1 2 3 4]\n",
            " [5 6 7 8 9]]\n",
            "[[0 1 2 3 4]\n",
            " [5 6 7 8 9]]\n"
          ]
        }
      ]
    },
    {
      "cell_type": "markdown",
      "source": [
        "**flatten( ) :**\n",
        "\n",
        "returns a copy of array collapsed in one dimension\n"
      ],
      "metadata": {
        "id": "FnOFpKn39axo"
      }
    },
    {
      "cell_type": "code",
      "source": [
        "a=np.arange(10).reshape(2,5)\n",
        "print(a)\n",
        "b=a.flatten()\n",
        "print(b)\n",
        "b[0]=100\n",
        "print(b)\n",
        "# copy of array\n",
        "print(a)"
      ],
      "metadata": {
        "colab": {
          "base_uri": "https://localhost:8080/"
        },
        "id": "psBI3wdw9703",
        "outputId": "199c961d-c9de-4d4c-b8cd-1ff972016f2b"
      },
      "execution_count": null,
      "outputs": [
        {
          "output_type": "stream",
          "name": "stdout",
          "text": [
            "[[0 1 2 3 4]\n",
            " [5 6 7 8 9]]\n",
            "[0 1 2 3 4 5 6 7 8 9]\n",
            "[100   1   2   3   4   5   6   7   8   9]\n",
            "[[0 1 2 3 4]\n",
            " [5 6 7 8 9]]\n"
          ]
        }
      ]
    },
    {
      "cell_type": "markdown",
      "source": [
        "**ravel( )**\n",
        "\n",
        "Return a contiguous flattened array.\n"
      ],
      "metadata": {
        "id": "uaS-soKs-d66"
      }
    },
    {
      "cell_type": "code",
      "source": [
        "# to get a 1 dim array by applying reval function\n",
        "a=np.arange(10).reshape(2,5)\n",
        "b=a.ravel()\n",
        "print(b)\n",
        "b[0]=100\n",
        "print(b)\n",
        "print(a)"
      ],
      "metadata": {
        "colab": {
          "base_uri": "https://localhost:8080/"
        },
        "id": "2rMGKMFy_Pyb",
        "outputId": "2004699f-1dd6-4036-831a-eef66033372e"
      },
      "execution_count": null,
      "outputs": [
        {
          "output_type": "stream",
          "name": "stdout",
          "text": [
            "[0 1 2 3 4 5 6 7 8 9]\n",
            "[100   1   2   3   4   5   6   7   8   9]\n",
            "[[100   1   2   3   4]\n",
            " [  5   6   7   8   9]]\n"
          ]
        }
      ]
    },
    {
      "cell_type": "markdown",
      "source": [
        "Ravel is faster than flatten() as it does not occupy any memory.\n",
        "\n",
        "Flatten() is comparatively slower than ravel() as it occupies memory."
      ],
      "metadata": {
        "id": "HRrLRSEo_T8K"
      }
    },
    {
      "cell_type": "code",
      "source": [
        "# the same thing is done by reshape function\n",
        "a=np.arange(10).reshape(2,5)\n",
        "print(a)\n",
        "print(a.reshape(-1))\n",
        "#ravel and reshape(-1) are the same"
      ],
      "metadata": {
        "colab": {
          "base_uri": "https://localhost:8080/"
        },
        "id": "x7bIzqJ9_gFx",
        "outputId": "ae27b4c1-7198-4df8-d83e-9d44984ad3ad"
      },
      "execution_count": null,
      "outputs": [
        {
          "output_type": "stream",
          "name": "stdout",
          "text": [
            "[[0 1 2 3 4]\n",
            " [5 6 7 8 9]]\n",
            "[0 1 2 3 4 5 6 7 8 9]\n"
          ]
        }
      ]
    },
    {
      "cell_type": "markdown",
      "source": [
        "## Array indexing\n",
        "Numpy offers several ways to index arrays\n",
        "\n",
        "**Slicing**: Similar to Python lists, numpy arrays can be sliced. Since arrays may be multidimensional, you must specify a slice for each dimension of the array:"
      ],
      "metadata": {
        "id": "FaBvV8cIA2Yb"
      }
    },
    {
      "cell_type": "code",
      "source": [
        "import numpy as np\n",
        "\n",
        "# Create the following rank 2 array with shape (3, 4)\n",
        "# [[ 1  2  3  4]\n",
        "#  [ 5  6  7  8]\n",
        "#  [ 9 10 11 12]]\n",
        "a = np.arange(1,13).reshape(3,4)\n",
        "print(a)\n",
        "# Use slicing to pull out the subarray consisting of the first 2 rows\n",
        "# and columns 1 and 2; b is the following array of shape (2, 2):\n",
        "# [[2 3]\n",
        "#  [6 7]]\n",
        "b = a[:2, 1:3]\n",
        "c = a[:3, 0:1]\n",
        "print(\"slice b:\",b)\n",
        "print(\"slice c:\",c)"
      ],
      "metadata": {
        "colab": {
          "base_uri": "https://localhost:8080/"
        },
        "id": "Nrh0pdMkBMCQ",
        "outputId": "6acc10e5-30b4-4ab6-974a-054aa5c5efe1"
      },
      "execution_count": null,
      "outputs": [
        {
          "output_type": "stream",
          "name": "stdout",
          "text": [
            "[[ 1  2  3  4]\n",
            " [ 5  6  7  8]\n",
            " [ 9 10 11 12]]\n",
            "slice b: [[2 3]\n",
            " [6 7]]\n",
            "slice c: [[1]\n",
            " [5]\n",
            " [9]]\n"
          ]
        }
      ]
    },
    {
      "cell_type": "markdown",
      "source": [
        "A slice of an array is a view into the same data(shallow copy), so modifying it will modify the original array."
      ],
      "metadata": {
        "id": "HQsCRuQ3BsFE"
      }
    },
    {
      "cell_type": "code",
      "source": [
        "print(a[0, 1])\n",
        "b[0, 0] = 77    # b[0, 0] is the same piece of data as a[0, 1]\n",
        "print(a[0, 1])"
      ],
      "metadata": {
        "colab": {
          "base_uri": "https://localhost:8080/"
        },
        "id": "xqRtidWlBtAG",
        "outputId": "23328b9f-7515-40eb-eda9-faeab465a083"
      },
      "execution_count": null,
      "outputs": [
        {
          "output_type": "stream",
          "name": "stdout",
          "text": [
            "2\n",
            "77\n"
          ]
        }
      ]
    },
    {
      "cell_type": "markdown",
      "source": [
        "but on the other hand"
      ],
      "metadata": {
        "id": "7-bnI6TRCfIf"
      }
    },
    {
      "cell_type": "code",
      "source": [
        "c = a[:2, 1:3].copy() #deep copy\n",
        "print(c)\n",
        "c[0, 0] = 125\n",
        "print(\"value in a don't change\",a)\n",
        "print('after change\\n',c)"
      ],
      "metadata": {
        "colab": {
          "base_uri": "https://localhost:8080/"
        },
        "id": "gecJXjEAClH7",
        "outputId": "cd090d3d-1caf-4e61-94c7-7a63ee859a54"
      },
      "execution_count": null,
      "outputs": [
        {
          "output_type": "stream",
          "name": "stdout",
          "text": [
            "[[2 3]\n",
            " [6 7]]\n",
            "value in a don't change [[ 1  2  3  4]\n",
            " [ 5  6  7  8]\n",
            " [ 9 10 11 12]]\n",
            "after change\n",
            " [[125   3]\n",
            " [  6   7]]\n"
          ]
        }
      ]
    },
    {
      "cell_type": "markdown",
      "source": [
        "Two ways of accessing the data in the middle row of the array.\n",
        "Mixing integer indexing with slices yields an array of lower rank,\n",
        "while using only slices yields an array of the same rank as the\n",
        "original array"
      ],
      "metadata": {
        "id": "LHKiv4-PDZ9k"
      }
    },
    {
      "cell_type": "code",
      "source": [
        "# Create the following rank 2 array with shape (3, 4)\n",
        "a = np.array([[1,2,3,4], [5,6,7,8], [9,10,11,12]])\n",
        "print(a)\n",
        "\n",
        "row_r1 = a[1, :]    # Rank 1 view of the second row of a\n",
        "row_r2 = a[1:2, :]  # Rank 2 view of the second row of a\n",
        "row_r3 = a[[1], :]  # Rank 2 view of the second row of a\n",
        "print(\"Rank 1 view of the second row of a\",row_r1, row_r1.shape)\n",
        "print(row_r2, row_r2.shape)\n",
        "print(row_r3, row_r3.shape)\n",
        "\n"
      ],
      "metadata": {
        "colab": {
          "base_uri": "https://localhost:8080/"
        },
        "id": "y_ym3aFDDSuy",
        "outputId": "cec36d1e-1554-4877-d06f-836c70aa8c88"
      },
      "execution_count": null,
      "outputs": [
        {
          "output_type": "stream",
          "name": "stdout",
          "text": [
            "[[ 1  2  3  4]\n",
            " [ 5  6  7  8]\n",
            " [ 9 10 11 12]]\n",
            "Rank 1 view of the second row of a [5 6 7 8] (4,)\n",
            "[[5 6 7 8]] (1, 4)\n",
            "[[5 6 7 8]] (1, 4)\n"
          ]
        }
      ]
    },
    {
      "cell_type": "code",
      "source": [
        "# We can make the same distinction when accessing columns of an array:\n",
        "col_r1 = a[:, 1]\n",
        "col_r2 = a[:, 1:2]\n",
        "print(col_r1, col_r1.shape)\n",
        "print()\n",
        "print(col_r2, col_r2.shape)"
      ],
      "metadata": {
        "colab": {
          "base_uri": "https://localhost:8080/"
        },
        "id": "a3ejRZpYD_oZ",
        "outputId": "b4e352b9-af60-44c0-a766-185735378a8b"
      },
      "execution_count": null,
      "outputs": [
        {
          "output_type": "stream",
          "name": "stdout",
          "text": [
            "[ 2  6 10] (3,)\n",
            "\n",
            "[[ 2]\n",
            " [ 6]\n",
            " [10]] (3, 1)\n"
          ]
        }
      ]
    },
    {
      "cell_type": "markdown",
      "source": [
        "**Integer array indexing**: When you index into numpy arrays using slicing, the resulting array view will always be a subarray of the original array. In contrast, integer array indexing allows you to construct arbitrary arrays using the data from another array. Here is an example:"
      ],
      "metadata": {
        "id": "CpBet0gIGFta"
      }
    },
    {
      "cell_type": "code",
      "source": [
        "a = np.array([[1,2], [3, 4], [5, 6]])\n",
        "print(a)\n",
        "# An example of integer array indexing.\n",
        "# The returned array will have shape (3,) and\n",
        "print(a[[0, 1, 2], [0, 1, 0]])\n",
        "# a[0, 0]  # 1\n",
        "# a[1, 1]  # 4\n",
        "# a[2, 0]  # 5\n",
        "\n",
        "# The above example of integer array indexing is equivalent to this:\n",
        "#print(np.array([a[0, 0], a[1, 1], a[2, 0]]))"
      ],
      "metadata": {
        "colab": {
          "base_uri": "https://localhost:8080/"
        },
        "id": "e7hb9vkbEsaM",
        "outputId": "8c1f64f6-06fc-4c1e-89ff-85ddb6c13a3a"
      },
      "execution_count": null,
      "outputs": [
        {
          "output_type": "stream",
          "name": "stdout",
          "text": [
            "[[1 2]\n",
            " [3 4]\n",
            " [5 6]]\n",
            "[1 4 5]\n"
          ]
        }
      ]
    },
    {
      "cell_type": "code",
      "source": [
        "# When using integer array indexing, you can reuse the same\n",
        "# element from the source array:\n",
        "print(a[[0, 0], [1, 1]])\n",
        "\n",
        "# Equivalent to the previous integer array indexing example\n",
        "print(np.array([a[0, 1], a[0, 1]]))"
      ],
      "metadata": {
        "colab": {
          "base_uri": "https://localhost:8080/"
        },
        "id": "DQilnw9hGJT9",
        "outputId": "9580fbf7-62f0-47f4-84e7-98a3a68dfe7e"
      },
      "execution_count": null,
      "outputs": [
        {
          "output_type": "stream",
          "name": "stdout",
          "text": [
            "[2 2]\n",
            "[2 2]\n"
          ]
        }
      ]
    },
    {
      "cell_type": "code",
      "source": [
        "# Create a new array from which we will select elements\n",
        "a = np.array([[1,2,3], [4,5,6], [7,8,9], [10, 11, 12]])\n",
        "print(a)\n",
        "# Create an array of indices\n",
        "b = np.array([0, 2, 0, 1])\n",
        "\n",
        "# Select one element from each row of a using the indices in b\n",
        "print(np.arange(4), b)\n",
        "print(a[np.arange(4), b]) # Prints \"[ 1  6  7 11]\""
      ],
      "metadata": {
        "colab": {
          "base_uri": "https://localhost:8080/"
        },
        "id": "MkP2esX4HPFh",
        "outputId": "44f06d04-dacd-4ae2-c44d-3a79f37b0cfc"
      },
      "execution_count": null,
      "outputs": [
        {
          "output_type": "stream",
          "name": "stdout",
          "text": [
            "[[ 1  2  3]\n",
            " [ 4  5  6]\n",
            " [ 7  8  9]\n",
            " [10 11 12]]\n",
            "[0 1 2 3] [0 2 0 1]\n",
            "[ 1  6  7 11]\n"
          ]
        }
      ]
    },
    {
      "cell_type": "code",
      "source": [
        "# Mutate one element from each row of a using the indices in b\n",
        "a[np.arange(4), b] += 10\n",
        "print(a)"
      ],
      "metadata": {
        "colab": {
          "base_uri": "https://localhost:8080/"
        },
        "id": "amxQubu0H2nW",
        "outputId": "9d82b094-7336-4c46-dc11-ea19aa45d4a3"
      },
      "execution_count": null,
      "outputs": [
        {
          "output_type": "stream",
          "name": "stdout",
          "text": [
            "[[11  2  3]\n",
            " [ 4  5 16]\n",
            " [17  8  9]\n",
            " [10 21 12]]\n"
          ]
        }
      ]
    },
    {
      "cell_type": "markdown",
      "source": [
        "**Boolean array indexing**: Boolean array indexing lets you pick out arbitrary elements of an array. Frequently this type of indexing is used to select the elements of an array that satisfy some condition. Here is an example:"
      ],
      "metadata": {
        "id": "u5je66OQIGmn"
      }
    },
    {
      "cell_type": "code",
      "source": [
        "import numpy as np\n",
        "\n",
        "a = np.array([[1,2], [3, 4], [5, 6]])\n",
        "\n",
        "bool_idx = (a > 2)  # Find the elements of a that are bigger than 2;\n",
        "                    # this returns a numpy array of Booleans of the same\n",
        "                    # shape as a, where each slot of bool_idx tells\n",
        "                    # whether that element of a is > 2.\n",
        "\n",
        "print(bool_idx)"
      ],
      "metadata": {
        "colab": {
          "base_uri": "https://localhost:8080/"
        },
        "id": "nd0BFKBBIMfo",
        "outputId": "3aab1e4e-bec9-422e-b08b-ba9ec920b018"
      },
      "execution_count": null,
      "outputs": [
        {
          "output_type": "stream",
          "name": "stdout",
          "text": [
            "[[False False]\n",
            " [ True  True]\n",
            " [ True  True]]\n"
          ]
        }
      ]
    },
    {
      "cell_type": "code",
      "source": [
        "# We use boolean array indexing to construct a rank 1 array\n",
        "# consisting of the elements of a corresponding to the True values\n",
        "# of bool_idx\n",
        "print(a[bool_idx])\n",
        "\n",
        "# We can do all of the above in a single concise statement:\n",
        "print(a[a > 2])"
      ],
      "metadata": {
        "colab": {
          "base_uri": "https://localhost:8080/"
        },
        "id": "j01in6NiIsXc",
        "outputId": "3135bc9d-f844-42d7-b8c7-70854c392500"
      },
      "execution_count": null,
      "outputs": [
        {
          "output_type": "stream",
          "name": "stdout",
          "text": [
            "[3 4 5 6]\n",
            "[3 4 5 6]\n"
          ]
        }
      ]
    },
    {
      "cell_type": "markdown",
      "source": [
        "## Data Types\n",
        "Every numpy array is a grid of elements of the same type. Numpy provides a large set of numeric datatypes that you can use to construct arrays. Numpy tries to guess a datatype when you create an array, but functions that construct arrays usually also include an optional argument to explicitly specify the datatype. Here is an example:"
      ],
      "metadata": {
        "id": "MfuKOIw6JYka"
      }
    },
    {
      "cell_type": "code",
      "source": [
        "x = np.array([1, 2])  # Let numpy choose the datatype\n",
        "y = np.array([1.0, 2.0])  # Let numpy choose the datatype\n",
        "z = np.array([1, 2], dtype=np.int64)  # Force a particular datatype\n",
        "\n",
        "print(x.dtype, y.dtype, z.dtype)"
      ],
      "metadata": {
        "colab": {
          "base_uri": "https://localhost:8080/"
        },
        "id": "CaJdD52iJcFs",
        "outputId": "c2a69ef9-9bcb-45e3-a204-75915a68973e"
      },
      "execution_count": null,
      "outputs": [
        {
          "output_type": "stream",
          "name": "stdout",
          "text": [
            "int64 float64 int64\n"
          ]
        }
      ]
    },
    {
      "cell_type": "markdown",
      "source": [
        "### Basic Math operations on Numpy arrays\n",
        "asic mathematical functions operate elementwise on arrays, and are available both as operator overloads and as functions in the numpy module:"
      ],
      "metadata": {
        "id": "nZeuX8zmJgJP"
      }
    },
    {
      "cell_type": "code",
      "source": [
        "x = np.array([[1,2],[3,4]], dtype=np.float64)\n",
        "y = np.array([[5,6],[7,8]], dtype=np.float64)\n",
        "print(x)\n",
        "print(y)\n",
        "\n",
        "# Elementwise sum; both produce the array\n",
        "print(\"sum = \",x + y) #operator wise\n",
        "print(np.add(x, y)) #or as a function"
      ],
      "metadata": {
        "colab": {
          "base_uri": "https://localhost:8080/"
        },
        "id": "9cJv5SygJvN1",
        "outputId": "a7b4017c-9410-4a32-9752-47e6959af90e"
      },
      "execution_count": null,
      "outputs": [
        {
          "output_type": "stream",
          "name": "stdout",
          "text": [
            "[[1. 2.]\n",
            " [3. 4.]]\n",
            "[[5. 6.]\n",
            " [7. 8.]]\n",
            "[[ 6.  8.]\n",
            " [10. 12.]]\n",
            "[[ 6.  8.]\n",
            " [10. 12.]]\n"
          ]
        }
      ]
    },
    {
      "cell_type": "code",
      "source": [
        "# Elementwise difference; both produce the array\n",
        "print(x - y)\n",
        "print(np.subtract(x, y))"
      ],
      "metadata": {
        "colab": {
          "base_uri": "https://localhost:8080/"
        },
        "id": "9Ok_2Cj-KKuz",
        "outputId": "0b98e8d6-354a-4a13-c7e9-74ccaea864ae"
      },
      "execution_count": null,
      "outputs": [
        {
          "output_type": "stream",
          "name": "stdout",
          "text": [
            "[[-4. -4.]\n",
            " [-4. -4.]]\n",
            "[[-4. -4.]\n",
            " [-4. -4.]]\n"
          ]
        }
      ]
    },
    {
      "cell_type": "code",
      "source": [
        "# Elementwise product; both produce the array\n",
        "print(x * y)\n",
        "print(np.multiply(x, y))"
      ],
      "metadata": {
        "colab": {
          "base_uri": "https://localhost:8080/"
        },
        "id": "VbYhG9frKPra",
        "outputId": "0c84c31e-8a2d-4d45-ca23-55bde472d2e6"
      },
      "execution_count": null,
      "outputs": [
        {
          "output_type": "stream",
          "name": "stdout",
          "text": [
            "[[ 5. 12.]\n",
            " [21. 32.]]\n",
            "[[ 5. 12.]\n",
            " [21. 32.]]\n"
          ]
        }
      ]
    },
    {
      "cell_type": "code",
      "source": [
        "# Elementwise division; both produce the array\n",
        "# [[ 0.2         0.33333333]\n",
        "#  [ 0.42857143  0.5       ]]\n",
        "print(x / y)\n",
        "print(np.divide(x, y))"
      ],
      "metadata": {
        "colab": {
          "base_uri": "https://localhost:8080/"
        },
        "id": "aAL0I_nnKY-8",
        "outputId": "1b42d44b-35c1-4d5d-85e2-073c94ac1297"
      },
      "execution_count": null,
      "outputs": [
        {
          "output_type": "stream",
          "name": "stdout",
          "text": [
            "[[0.2        0.33333333]\n",
            " [0.42857143 0.5       ]]\n",
            "[[0.2        0.33333333]\n",
            " [0.42857143 0.5       ]]\n"
          ]
        }
      ]
    },
    {
      "cell_type": "markdown",
      "source": [
        "**Note that** unlike MATLAB, `*` is elementwise multiplication, not matrix multiplication. We instead use the dot function to compute inner products of vectors, to multiply a vector by a matrix, and to multiply matrices. dot is available both as a function in the numpy module and as an instance method of array objects:"
      ],
      "metadata": {
        "id": "IxEYfy-DKfL3"
      }
    },
    {
      "cell_type": "code",
      "source": [
        "x = np.array([[1,2],[3,4]])\n",
        "y = np.array([[5,6],[7,8]])\n",
        "\n",
        "v = np.array([9,10])\n",
        "w = np.array([11, 12])\n",
        "\n",
        "# Inner product of vectors; both produce 219\n",
        "print(x.dot(y))\n",
        "print(np.dot(v, w))"
      ],
      "metadata": {
        "colab": {
          "base_uri": "https://localhost:8080/"
        },
        "id": "fhPSEvMWKjO0",
        "outputId": "8233c5a3-ae4c-4f5e-e6e1-2afad692938d"
      },
      "execution_count": null,
      "outputs": [
        {
          "output_type": "stream",
          "name": "stdout",
          "text": [
            "[[19 22]\n",
            " [43 50]]\n",
            "219\n"
          ]
        }
      ]
    },
    {
      "cell_type": "markdown",
      "source": [
        "You can also use the `@` operator which is equivalent to numpy's `dot` operator."
      ],
      "metadata": {
        "id": "Gw4SVxTTK17C"
      }
    },
    {
      "cell_type": "code",
      "source": [
        "print(v @ w)"
      ],
      "metadata": {
        "colab": {
          "base_uri": "https://localhost:8080/"
        },
        "id": "ssv_6d_oK2s4",
        "outputId": "0abdc605-96cd-4970-e116-a650141d6bd3"
      },
      "execution_count": null,
      "outputs": [
        {
          "output_type": "stream",
          "name": "stdout",
          "text": [
            "219\n"
          ]
        }
      ]
    }
  ]
}