{
  "nbformat": 4,
  "nbformat_minor": 0,
  "metadata": {
    "colab": {
      "provenance": []
    },
    "kernelspec": {
      "name": "python3",
      "display_name": "Python 3"
    },
    "language_info": {
      "name": "python"
    }
  },
  "cells": [
    {
      "cell_type": "markdown",
      "source": [
        "## Getting Started with Python\n"
      ],
      "metadata": {
        "id": "35XCVrcvfQVF"
      }
    },
    {
      "cell_type": "code",
      "source": [
        "x = 10\n",
        "name = \"Rubiqa\"\n",
        "print(x)\n",
        "print(name)\n",
        "print(type(x))\n",
        "print(type(name))"
      ],
      "metadata": {
        "colab": {
          "base_uri": "https://localhost:8080/"
        },
        "id": "27pKY4KffYJI",
        "outputId": "2b70b440-e4b4-404b-98fc-38a669c3fe4e"
      },
      "execution_count": null,
      "outputs": [
        {
          "output_type": "stream",
          "name": "stdout",
          "text": [
            "10\n",
            "Rubiqa\n",
            "<class 'int'>\n",
            "<class 'str'>\n"
          ]
        }
      ]
    },
    {
      "cell_type": "code",
      "source": [
        "# comments can be added in python using the hash symbol\n",
        "print(\"hello\")\n",
        "# print(\"Hi\")"
      ],
      "metadata": {
        "colab": {
          "base_uri": "https://localhost:8080/"
        },
        "id": "InZdDchPhC7B",
        "outputId": "1be61002-ec5a-4eb3-ad8b-0979a589b468"
      },
      "execution_count": null,
      "outputs": [
        {
          "output_type": "stream",
          "name": "stdout",
          "text": [
            "hello\n"
          ]
        }
      ]
    },
    {
      "cell_type": "markdown",
      "source": [
        "**Python list**\n"
      ],
      "metadata": {
        "id": "if3h0TaofPqZ"
      }
    },
    {
      "cell_type": "code",
      "source": [
        "list = [\"apple\", \"banana\", \"cherry\", \"apple\", \"cherry\",10,24,2023]\n",
        "print(list)\n",
        "print(type(list))"
      ],
      "metadata": {
        "colab": {
          "base_uri": "https://localhost:8080/"
        },
        "id": "OadPYORqzZow",
        "outputId": "c9a6e4a1-4bc3-42cd-b810-787e4c77b22f"
      },
      "execution_count": null,
      "outputs": [
        {
          "output_type": "stream",
          "name": "stdout",
          "text": [
            "['apple', 'banana', 'cherry', 'apple', 'cherry', 10, 24, 2023]\n",
            "<class 'list'>\n"
          ]
        }
      ]
    },
    {
      "cell_type": "code",
      "source": [
        "#dictionary\n",
        "Dict1 ={1:\"apple\", 2:\"banana\",3:\"grapes\"}\n",
        "print(\"Dictionary1\",Dict1)\n",
        "print(type(Dict1))\n",
        "\n",
        "# dictionary using the dict command\n",
        "Dict2 = dict(name = \"John\", age = 36, country = \"Norway\")\n",
        "print(\"Dictionary 2\",Dict2)\n",
        "print(type(Dict2))"
      ],
      "metadata": {
        "colab": {
          "base_uri": "https://localhost:8080/"
        },
        "id": "9GTFi7sz4ovb",
        "outputId": "1c25c96c-70e9-40d9-bf62-f4898aa9052f"
      },
      "execution_count": null,
      "outputs": [
        {
          "output_type": "stream",
          "name": "stdout",
          "text": [
            "Dictionary1 {1: 'apple', 2: 'banana', 3: 'grapes'}\n",
            "<class 'dict'>\n",
            "Dictionary 2 {'name': 'John', 'age': 36, 'country': 'Norway'}\n",
            "<class 'dict'>\n"
          ]
        }
      ]
    },
    {
      "cell_type": "code",
      "source": [
        "# Tuple\n",
        "tuple = (\"apple\", \"banana\",1,2,3, \"apple\", \"cherry\")\n",
        "print(tuple)\n",
        "print(type(tuple))"
      ],
      "metadata": {
        "colab": {
          "base_uri": "https://localhost:8080/"
        },
        "id": "V2m6PSCD7UnB",
        "outputId": "e9743bab-2ac4-42c4-892e-179a7e746ef2"
      },
      "execution_count": null,
      "outputs": [
        {
          "output_type": "stream",
          "name": "stdout",
          "text": [
            "('apple', 'banana', 1, 2, 3, 'apple', 'cherry')\n",
            "<class 'tuple'>\n"
          ]
        }
      ]
    }
  ]
}