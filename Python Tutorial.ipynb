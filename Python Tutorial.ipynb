{
 "cells": [
  {
   "cell_type": "markdown",
   "id": "286d9773",
   "metadata": {},
   "source": [
    "# Python Tutorial\n",
    "\n"
   ]
  },
  {
   "cell_type": "markdown",
   "id": "5dac467a",
   "metadata": {},
   "source": [
    "Code cells run code  and display their output below.\\\n",
    "Markdown cells display formatted text where you write it."
   ]
  },
  {
   "cell_type": "code",
   "execution_count": 16,
   "id": "d4380beb",
   "metadata": {},
   "outputs": [
    {
     "name": "stdout",
     "output_type": "stream",
     "text": [
      "Hello World!\n",
      "Hello World!\n",
      "-------------------------------------------------\n"
     ]
    }
   ],
   "source": [
    "# This is a simple Hello World program in Python \n",
    "print(\"Hello World!\")\n",
    "print('Hello World!')\n",
    "print('-------------------------------------------------')"
   ]
  },
  {
   "cell_type": "markdown",
   "id": "b37825c9",
   "metadata": {},
   "source": [
    "### Keyboard Shortcuts\n",
    "- Green outline — cell is in \"edit mode\"\\\n",
    "- Blue outline — cell is in \"command mode\"\n",
    "\n",
    "+ Use Up and Down keys to scroll through cells.\n",
    "+ Press A or B to insert a new cell above or below the active cell.\n",
    "+ Press M to change the active cell to a Markdown cell.\n",
    "+ Press Y to change the active cell to a code cell.\n",
    "+ Press D twice (D + D) to delete the active cell.\n",
    "+ Press Z to undo cell deletion.\n",
    "+ Hold Shift and press Up or Down to select multiple cells.\n",
    "+ With multiple cells selected, use Shift + M to merge your selection.\n",
    "+ In edit mode, use Ctrl + Shift + - to split the active cell at the cursor.\n",
    "+ You can also select cells by clicking and Shift + Clicking in the margin to the left of the cells.\n",
    "\n",
    "### Markdown\n",
    "#### heading,  # level 1 , ## level 2 , ### level 3, #### level 4\n",
    " # level 1 \n",
    " ## level 2 \n",
    " ### level 3\n",
    " #### level 4\n",
    "\n",
    "\n",
    "This is some plain text that forms a paragraph.\\\n",
    "Add emphasis via \\\n",
    "include some thing in dable staric **   **\\\n",
    "\n",
    "**bold** \\ \n",
    "or\\\n",
    "__ __, \\ \n",
    "\n",
    "__bold__\n",
    "\n",
    "and \\\n",
    "\n",
    "include some thing in single  staric *   * \\\n",
    "*italic* \n",
    "\n",
    "or \\\n",
    "\n",
    "_italic_. \n",
    "\n",
    "\n",
    "\n",
    "**Paragraphs must be separated by an empty line**\n",
    "\n",
    "\n",
    "\n",
    "[It is possible to include hyperlinks]  ----»»» (https://www.1234.com)\n",
    "\n",
    "\n",
    "\n",
    "\n",
    "\n",
    "\n",
    "\n"
   ]
  },
  {
   "cell_type": "markdown",
   "id": "d28bd57c",
   "metadata": {},
   "source": []
  },
  {
   "cell_type": "code",
   "execution_count": null,
   "id": "520c7d85",
   "metadata": {},
   "outputs": [],
   "source": []
  }
 ],
 "metadata": {
  "kernelspec": {
   "display_name": "Python 3 (ipykernel)",
   "language": "python",
   "name": "python3"
  },
  "language_info": {
   "codemirror_mode": {
    "name": "ipython",
    "version": 3
   },
   "file_extension": ".py",
   "mimetype": "text/x-python",
   "name": "python",
   "nbconvert_exporter": "python",
   "pygments_lexer": "ipython3",
   "version": "3.11.3"
  }
 },
 "nbformat": 4,
 "nbformat_minor": 5
}
