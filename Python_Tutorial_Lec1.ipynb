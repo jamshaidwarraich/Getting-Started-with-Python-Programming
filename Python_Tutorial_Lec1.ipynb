{
 "cells": [
  {
   "cell_type": "markdown",
   "id": "952ccd69",
   "metadata": {},
   "source": [
    "# Python Tutorial\n",
    "\n"
   ]
  },
  {
   "cell_type": "markdown",
   "id": "777cbd54",
   "metadata": {},
   "source": [
    "Code cells run code  and display their output below.\\\n",
    "Markdown cells display formatted text where you write it."
   ]
  },
  {
   "cell_type": "code",
   "execution_count": 26,
   "id": "15c6199b",
   "metadata": {},
   "outputs": [
    {
     "name": "stdout",
     "output_type": "stream",
     "text": [
      "Hello World!\n",
      "Hello World!\n",
      "-------------------------------------------------\n"
     ]
    }
   ],
   "source": [
    "# This is a simple Hello World program in Python \n",
    "print(\"Hello World!\")\n",
    "print('Hello World!')\n",
    "print('-------------------------------------------------')"
   ]
  },
  {
   "cell_type": "markdown",
   "id": "589f9aaa",
   "metadata": {},
   "source": [
    "### Keyboard Shortcuts\n",
    "- Green outline — cell is in \"edit mode\"\\\n",
    "- Blue outline — cell is in \"command mode\"\n",
    "\n",
    "+ Use Up and Down keys to scroll through cells.\n",
    "+ Press A or B to insert a new cell above or below the active cell.\n",
    "+ Press M to change the active cell to a Markdown cell.\n",
    "+ Press Y to change the active cell to a code cell.\n",
    "+ Press D twice (D + D) to delete the active cell.\n",
    "+ Press Z to undo cell deletion.\n",
    "+ Hold Shift and press Up or Down to select multiple cells.\n",
    "+ With multiple cells selected, use Shift + M to merge your selection.\n",
    "+ In edit mode, use Ctrl + Shift + - to split the active cell at the cursor.\n",
    "+ You can also select cells by clicking and Shift + Clicking in the margin to the left of the cells.\n",
    "\n",
    "### Markdown\n",
    "#### heading,  # level 1 , ## level 2 , ### level 3, #### level 4\n",
    " # level 1 \n",
    " ## level 2 \n",
    " ### level 3\n",
    " #### level 4\n",
    "\n",
    "\n",
    "This is some plain text that forms a paragraph.\\\n",
    "Add emphasis via \\\n",
    "include some thing in dable staric **   **\\\n",
    "\n",
    "**bold** \\ \n",
    "or\\\n",
    "__ __, \\ \n",
    "\n",
    "__bold__\n",
    "\n",
    "and \\\n",
    "\n",
    "include some thing in single  staric *   * \\\n",
    "*italic* \n",
    "\n",
    "or \\\n",
    "\n",
    "_italic_. \n",
    "\n",
    "\n",
    "\n",
    "**Paragraphs must be separated by an empty line**\n",
    "\n",
    "\n",
    "\n",
    "[It is possible to include hyperlinks]  ----»»» (https://www.1234.com)\n",
    "\n",
    "\n",
    "\n",
    "\n",
    "\n",
    "\n",
    "\n"
   ]
  },
  {
   "cell_type": "code",
   "execution_count": 27,
   "id": "540138e4",
   "metadata": {},
   "outputs": [
    {
     "name": "stdout",
     "output_type": "stream",
     "text": [
      "Name: Ali\n",
      "Age: 32\n",
      "Height: 6.1\n"
     ]
    }
   ],
   "source": [
    "# Integer variable\n",
    "age = 32\n",
    "\n",
    "# Float variable\n",
    "height = 6.1\n",
    "\n",
    "# String variable\n",
    "name = \"Ali\"\n",
    "\n",
    "# Printing variables\n",
    "print(\"Name:\", name)\n",
    "print(\"Age:\", age)\n",
    "print(\"Height:\", height)\n"
   ]
  },
  {
   "cell_type": "code",
   "execution_count": 28,
   "id": "725aba0b",
   "metadata": {},
   "outputs": [
    {
     "name": "stdout",
     "output_type": "stream",
     "text": [
      "<class 'str'>\n",
      "<class 'float'>\n",
      "<class 'int'>\n"
     ]
    }
   ],
   "source": [
    "print(type(name))\n",
    "print(type(height))\n",
    "print(type(age))"
   ]
  },
  {
   "cell_type": "code",
   "execution_count": 31,
   "id": "98927105",
   "metadata": {},
   "outputs": [
    {
     "name": "stdout",
     "output_type": "stream",
     "text": [
      "Enter your name: ali\n",
      "Hello, ali\n"
     ]
    }
   ],
   "source": [
    "# Get user input\n",
    "name = input(\"Enter your name: \")\n",
    "\n",
    "# Display the input\n",
    "print(\"Hello,\", name)"
   ]
  },
  {
   "cell_type": "code",
   "execution_count": 35,
   "id": "0a5a7c49",
   "metadata": {},
   "outputs": [
    {
     "name": "stdout",
     "output_type": "stream",
     "text": [
      "Enter your name: ali\n",
      "ali is a student\n"
     ]
    }
   ],
   "source": [
    "# Get user input\n",
    "who_areu = input(\"Enter your name: \")\n",
    "\n",
    "# Display the input\n",
    "print( name, \"is a student\")"
   ]
  },
  {
   "cell_type": "markdown",
   "id": "03845880",
   "metadata": {},
   "source": [
    "## basic math operations"
   ]
  },
  {
   "cell_type": "code",
   "execution_count": 49,
   "id": "88f10478",
   "metadata": {},
   "outputs": [
    {
     "data": {
      "text/plain": [
       "7"
      ]
     },
     "execution_count": 49,
     "metadata": {},
     "output_type": "execute_result"
    }
   ],
   "source": [
    "num1=2\n",
    "num2=5\n",
    "sum=num1+num2\n",
    "sum"
   ]
  },
  {
   "cell_type": "code",
   "execution_count": 50,
   "id": "5004b363",
   "metadata": {},
   "outputs": [
    {
     "data": {
      "text/plain": [
       "2"
      ]
     },
     "execution_count": 50,
     "metadata": {},
     "output_type": "execute_result"
    }
   ],
   "source": [
    "# Subtraction\n",
    "num1 = 10\n",
    "num2 = 8\n",
    "result = num1 - num2\n",
    "result"
   ]
  },
  {
   "cell_type": "code",
   "execution_count": 51,
   "id": "484de25a",
   "metadata": {},
   "outputs": [
    {
     "data": {
      "text/plain": [
       "24"
      ]
     },
     "execution_count": 51,
     "metadata": {},
     "output_type": "execute_result"
    }
   ],
   "source": [
    "# Multiplication\n",
    "num1 = 6\n",
    "num2 = 4\n",
    "result = num1 * num2\n",
    "result\n"
   ]
  },
  {
   "cell_type": "code",
   "execution_count": 52,
   "id": "0435acba",
   "metadata": {},
   "outputs": [
    {
     "data": {
      "text/plain": [
       "4.0"
      ]
     },
     "execution_count": 52,
     "metadata": {},
     "output_type": "execute_result"
    }
   ],
   "source": [
    "# Division\n",
    "num1 = 8\n",
    "num2 = 2\n",
    "result = num1 / num2\n",
    "result\n"
   ]
  },
  {
   "cell_type": "code",
   "execution_count": 53,
   "id": "76bd6fe6",
   "metadata": {},
   "outputs": [
    {
     "data": {
      "text/plain": [
       "8"
      ]
     },
     "execution_count": 53,
     "metadata": {},
     "output_type": "execute_result"
    }
   ],
   "source": [
    "# Exponents (Powers)\n",
    "base = 2\n",
    "exponent = 3\n",
    "result = base ** exponent\n",
    "result"
   ]
  },
  {
   "cell_type": "code",
   "execution_count": 54,
   "id": "f8382744",
   "metadata": {},
   "outputs": [
    {
     "data": {
      "text/plain": [
       "8"
      ]
     },
     "execution_count": 54,
     "metadata": {},
     "output_type": "execute_result"
    }
   ],
   "source": [
    "# Exponents (Powers)\n",
    "e = 2\n",
    "t = 3\n",
    "result =  e**t\n",
    "result"
   ]
  },
  {
   "cell_type": "code",
   "execution_count": 56,
   "id": "0a285967",
   "metadata": {},
   "outputs": [
    {
     "data": {
      "text/plain": [
       "2"
      ]
     },
     "execution_count": 56,
     "metadata": {},
     "output_type": "execute_result"
    }
   ],
   "source": [
    "# Modulus (Remainder)\n",
    "num1 = 10\n",
    "num2 = 4\n",
    "result = num1 % num2\n",
    "result"
   ]
  },
  {
   "cell_type": "code",
   "execution_count": 62,
   "id": "e2374d2e",
   "metadata": {},
   "outputs": [
    {
     "data": {
      "text/plain": [
       "0"
      ]
     },
     "execution_count": 62,
     "metadata": {},
     "output_type": "execute_result"
    }
   ],
   "source": [
    "# Modulus (Remainder)\n",
    "num1 = 77\n",
    "num2 = 11\n",
    "result = num1 % num2\n",
    "result"
   ]
  }
 ],
 "metadata": {
  "kernelspec": {
   "display_name": "Python 3 (ipykernel)",
   "language": "python",
   "name": "python3"
  },
  "language_info": {
   "codemirror_mode": {
    "name": "ipython",
    "version": 3
   },
   "file_extension": ".py",
   "mimetype": "text/x-python",
   "name": "python",
   "nbconvert_exporter": "python",
   "pygments_lexer": "ipython3",
   "version": "3.11.3"
  }
 },
 "nbformat": 4,
 "nbformat_minor": 5
}
